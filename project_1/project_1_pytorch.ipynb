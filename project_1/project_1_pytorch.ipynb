{
  "metadata": {
    "kernelspec": {
      "name": "python3",
      "display_name": "Python 3",
      "language": "python"
    },
    "language_info": {
      "name": "python",
      "version": "3.7.12",
      "mimetype": "text/x-python",
      "codemirror_mode": {
        "name": "ipython",
        "version": 3
      },
      "pygments_lexer": "ipython3",
      "nbconvert_exporter": "python",
      "file_extension": ".py"
    },
    "colab": {
      "provenance": []
    },
    "accelerator": "GPU",
    "gpuClass": "standard",
    "widgets": {
      "application/vnd.jupyter.widget-state+json": {
        "2cd023f759a34115a49bb7b5231a51c6": {
          "model_module": "@jupyter-widgets/controls",
          "model_name": "VBoxModel",
          "model_module_version": "1.5.0",
          "state": {
            "_dom_classes": [],
            "_model_module": "@jupyter-widgets/controls",
            "_model_module_version": "1.5.0",
            "_model_name": "VBoxModel",
            "_view_count": null,
            "_view_module": "@jupyter-widgets/controls",
            "_view_module_version": "1.5.0",
            "_view_name": "VBoxView",
            "box_style": "",
            "children": [
              "IPY_MODEL_9e958e2b36d040059607bde3af5c3d62",
              "IPY_MODEL_0b3842ebff4b4d14aa5d6317b374446b"
            ],
            "layout": "IPY_MODEL_104a690e60c540169a74b239361a9ec6"
          }
        },
        "9e958e2b36d040059607bde3af5c3d62": {
          "model_module": "@jupyter-widgets/controls",
          "model_name": "LabelModel",
          "model_module_version": "1.5.0",
          "state": {
            "_dom_classes": [],
            "_model_module": "@jupyter-widgets/controls",
            "_model_module_version": "1.5.0",
            "_model_name": "LabelModel",
            "_view_count": null,
            "_view_module": "@jupyter-widgets/controls",
            "_view_module_version": "1.5.0",
            "_view_name": "LabelView",
            "description": "",
            "description_tooltip": null,
            "layout": "IPY_MODEL_0e6efb9e07ec478590e3a5b71fbea3e5",
            "placeholder": "​",
            "style": "IPY_MODEL_2560ca5da1b949baa5c65da743fc41df",
            "value": "2.701 MB of 2.712 MB uploaded (0.000 MB deduped)\r"
          }
        },
        "0b3842ebff4b4d14aa5d6317b374446b": {
          "model_module": "@jupyter-widgets/controls",
          "model_name": "FloatProgressModel",
          "model_module_version": "1.5.0",
          "state": {
            "_dom_classes": [],
            "_model_module": "@jupyter-widgets/controls",
            "_model_module_version": "1.5.0",
            "_model_name": "FloatProgressModel",
            "_view_count": null,
            "_view_module": "@jupyter-widgets/controls",
            "_view_module_version": "1.5.0",
            "_view_name": "ProgressView",
            "bar_style": "",
            "description": "",
            "description_tooltip": null,
            "layout": "IPY_MODEL_c25c6af6950647a686784440114aeb1a",
            "max": 1,
            "min": 0,
            "orientation": "horizontal",
            "style": "IPY_MODEL_9246e1277d9f432996c0569f2f4c2a63",
            "value": 0.9960865220085225
          }
        },
        "104a690e60c540169a74b239361a9ec6": {
          "model_module": "@jupyter-widgets/base",
          "model_name": "LayoutModel",
          "model_module_version": "1.2.0",
          "state": {
            "_model_module": "@jupyter-widgets/base",
            "_model_module_version": "1.2.0",
            "_model_name": "LayoutModel",
            "_view_count": null,
            "_view_module": "@jupyter-widgets/base",
            "_view_module_version": "1.2.0",
            "_view_name": "LayoutView",
            "align_content": null,
            "align_items": null,
            "align_self": null,
            "border": null,
            "bottom": null,
            "display": null,
            "flex": null,
            "flex_flow": null,
            "grid_area": null,
            "grid_auto_columns": null,
            "grid_auto_flow": null,
            "grid_auto_rows": null,
            "grid_column": null,
            "grid_gap": null,
            "grid_row": null,
            "grid_template_areas": null,
            "grid_template_columns": null,
            "grid_template_rows": null,
            "height": null,
            "justify_content": null,
            "justify_items": null,
            "left": null,
            "margin": null,
            "max_height": null,
            "max_width": null,
            "min_height": null,
            "min_width": null,
            "object_fit": null,
            "object_position": null,
            "order": null,
            "overflow": null,
            "overflow_x": null,
            "overflow_y": null,
            "padding": null,
            "right": null,
            "top": null,
            "visibility": null,
            "width": null
          }
        },
        "0e6efb9e07ec478590e3a5b71fbea3e5": {
          "model_module": "@jupyter-widgets/base",
          "model_name": "LayoutModel",
          "model_module_version": "1.2.0",
          "state": {
            "_model_module": "@jupyter-widgets/base",
            "_model_module_version": "1.2.0",
            "_model_name": "LayoutModel",
            "_view_count": null,
            "_view_module": "@jupyter-widgets/base",
            "_view_module_version": "1.2.0",
            "_view_name": "LayoutView",
            "align_content": null,
            "align_items": null,
            "align_self": null,
            "border": null,
            "bottom": null,
            "display": null,
            "flex": null,
            "flex_flow": null,
            "grid_area": null,
            "grid_auto_columns": null,
            "grid_auto_flow": null,
            "grid_auto_rows": null,
            "grid_column": null,
            "grid_gap": null,
            "grid_row": null,
            "grid_template_areas": null,
            "grid_template_columns": null,
            "grid_template_rows": null,
            "height": null,
            "justify_content": null,
            "justify_items": null,
            "left": null,
            "margin": null,
            "max_height": null,
            "max_width": null,
            "min_height": null,
            "min_width": null,
            "object_fit": null,
            "object_position": null,
            "order": null,
            "overflow": null,
            "overflow_x": null,
            "overflow_y": null,
            "padding": null,
            "right": null,
            "top": null,
            "visibility": null,
            "width": null
          }
        },
        "2560ca5da1b949baa5c65da743fc41df": {
          "model_module": "@jupyter-widgets/controls",
          "model_name": "DescriptionStyleModel",
          "model_module_version": "1.5.0",
          "state": {
            "_model_module": "@jupyter-widgets/controls",
            "_model_module_version": "1.5.0",
            "_model_name": "DescriptionStyleModel",
            "_view_count": null,
            "_view_module": "@jupyter-widgets/base",
            "_view_module_version": "1.2.0",
            "_view_name": "StyleView",
            "description_width": ""
          }
        },
        "c25c6af6950647a686784440114aeb1a": {
          "model_module": "@jupyter-widgets/base",
          "model_name": "LayoutModel",
          "model_module_version": "1.2.0",
          "state": {
            "_model_module": "@jupyter-widgets/base",
            "_model_module_version": "1.2.0",
            "_model_name": "LayoutModel",
            "_view_count": null,
            "_view_module": "@jupyter-widgets/base",
            "_view_module_version": "1.2.0",
            "_view_name": "LayoutView",
            "align_content": null,
            "align_items": null,
            "align_self": null,
            "border": null,
            "bottom": null,
            "display": null,
            "flex": null,
            "flex_flow": null,
            "grid_area": null,
            "grid_auto_columns": null,
            "grid_auto_flow": null,
            "grid_auto_rows": null,
            "grid_column": null,
            "grid_gap": null,
            "grid_row": null,
            "grid_template_areas": null,
            "grid_template_columns": null,
            "grid_template_rows": null,
            "height": null,
            "justify_content": null,
            "justify_items": null,
            "left": null,
            "margin": null,
            "max_height": null,
            "max_width": null,
            "min_height": null,
            "min_width": null,
            "object_fit": null,
            "object_position": null,
            "order": null,
            "overflow": null,
            "overflow_x": null,
            "overflow_y": null,
            "padding": null,
            "right": null,
            "top": null,
            "visibility": null,
            "width": null
          }
        },
        "9246e1277d9f432996c0569f2f4c2a63": {
          "model_module": "@jupyter-widgets/controls",
          "model_name": "ProgressStyleModel",
          "model_module_version": "1.5.0",
          "state": {
            "_model_module": "@jupyter-widgets/controls",
            "_model_module_version": "1.5.0",
            "_model_name": "ProgressStyleModel",
            "_view_count": null,
            "_view_module": "@jupyter-widgets/base",
            "_view_module_version": "1.2.0",
            "_view_name": "StyleView",
            "bar_color": null,
            "description_width": ""
          }
        }
      }
    }
  },
  "nbformat_minor": 5,
  "nbformat": 4,
  "cells": [
    {
      "cell_type": "code",
      "source": [
        "from keras.datasets import mnist\n",
        "import numpy as np\n",
        "import matplotlib.pyplot as plt\n",
        "import os\n",
        "import torch\n",
        "import torch.nn as nn\n",
        "from keras.utils import to_categorical\n",
        "from torchvision.transforms import transforms, Compose, RandomRotation, RandomAffine, ToPILImage, RandomHorizontalFlip, RandomVerticalFlip\n",
        "from torch.utils.data import TensorDataset, DataLoader, random_split, ConcatDataset, Dataset\n",
        "from sklearn.model_selection import train_test_split\n",
        "!pip install wandb\n",
        "import wandb\n",
        "from wandb.keras import WandbCallback\n",
        "from torchvision.transforms.functional import to_pil_image, to_tensor"
      ],
      "metadata": {
        "id": "8e130509",
        "colab": {
          "base_uri": "https://localhost:8080/"
        },
        "outputId": "48d32cec-1e06-4807-b3a3-a0f593077063",
        "execution": {
          "iopub.status.busy": "2023-03-28T20:25:14.595235Z",
          "iopub.execute_input": "2023-03-28T20:25:14.595722Z",
          "iopub.status.idle": "2023-03-28T20:25:37.222493Z",
          "shell.execute_reply.started": "2023-03-28T20:25:14.595678Z",
          "shell.execute_reply": "2023-03-28T20:25:37.221273Z"
        },
        "trusted": true
      },
      "execution_count": null,
      "outputs": [
        {
          "name": "stdout",
          "text": "Requirement already satisfied: wandb in /opt/conda/lib/python3.7/site-packages (0.13.10)\nRequirement already satisfied: appdirs>=1.4.3 in /opt/conda/lib/python3.7/site-packages (from wandb) (1.4.4)\nRequirement already satisfied: PyYAML in /opt/conda/lib/python3.7/site-packages (from wandb) (6.0)\nRequirement already satisfied: setproctitle in /opt/conda/lib/python3.7/site-packages (from wandb) (1.3.2)\nRequirement already satisfied: docker-pycreds>=0.4.0 in /opt/conda/lib/python3.7/site-packages (from wandb) (0.4.0)\nRequirement already satisfied: Click!=8.0.0,>=7.0 in /opt/conda/lib/python3.7/site-packages (from wandb) (8.1.3)\nRequirement already satisfied: sentry-sdk>=1.0.0 in /opt/conda/lib/python3.7/site-packages (from wandb) (1.15.0)\nRequirement already satisfied: pathtools in /opt/conda/lib/python3.7/site-packages (from wandb) (0.1.2)\nRequirement already satisfied: typing-extensions in /opt/conda/lib/python3.7/site-packages (from wandb) (4.4.0)\nRequirement already satisfied: requests<3,>=2.0.0 in /opt/conda/lib/python3.7/site-packages (from wandb) (2.28.2)\nRequirement already satisfied: setuptools in /opt/conda/lib/python3.7/site-packages (from wandb) (59.8.0)\nRequirement already satisfied: psutil>=5.0.0 in /opt/conda/lib/python3.7/site-packages (from wandb) (5.9.3)\nRequirement already satisfied: GitPython>=1.0.0 in /opt/conda/lib/python3.7/site-packages (from wandb) (3.1.30)\nRequirement already satisfied: protobuf!=4.21.0,<5,>=3.12.0 in /opt/conda/lib/python3.7/site-packages (from wandb) (3.20.3)\nRequirement already satisfied: importlib-metadata in /opt/conda/lib/python3.7/site-packages (from Click!=8.0.0,>=7.0->wandb) (4.11.4)\nRequirement already satisfied: six>=1.4.0 in /opt/conda/lib/python3.7/site-packages (from docker-pycreds>=0.4.0->wandb) (1.16.0)\nRequirement already satisfied: gitdb<5,>=4.0.1 in /opt/conda/lib/python3.7/site-packages (from GitPython>=1.0.0->wandb) (4.0.10)\nRequirement already satisfied: idna<4,>=2.5 in /opt/conda/lib/python3.7/site-packages (from requests<3,>=2.0.0->wandb) (3.4)\nRequirement already satisfied: urllib3<1.27,>=1.21.1 in /opt/conda/lib/python3.7/site-packages (from requests<3,>=2.0.0->wandb) (1.26.14)\nRequirement already satisfied: charset-normalizer<4,>=2 in /opt/conda/lib/python3.7/site-packages (from requests<3,>=2.0.0->wandb) (2.1.1)\nRequirement already satisfied: certifi>=2017.4.17 in /opt/conda/lib/python3.7/site-packages (from requests<3,>=2.0.0->wandb) (2022.12.7)\nRequirement already satisfied: smmap<6,>=3.0.1 in /opt/conda/lib/python3.7/site-packages (from gitdb<5,>=4.0.1->GitPython>=1.0.0->wandb) (5.0.0)\nRequirement already satisfied: zipp>=0.5 in /opt/conda/lib/python3.7/site-packages (from importlib-metadata->Click!=8.0.0,>=7.0->wandb) (3.11.0)\n\u001b[33mWARNING: Running pip as the 'root' user can result in broken permissions and conflicting behaviour with the system package manager. It is recommended to use a virtual environment instead: https://pip.pypa.io/warnings/venv\u001b[0m\u001b[33m\n\u001b[0m",
          "output_type": "stream"
        }
      ],
      "id": "8e130509"
    },
    {
      "cell_type": "code",
      "source": [
        "device = torch.device('cuda' if torch.cuda.is_available() else 'cpu')\n",
        "device"
      ],
      "metadata": {
        "colab": {
          "base_uri": "https://localhost:8080/"
        },
        "id": "igWHf3cqqcHp",
        "outputId": "8bda709c-9db3-406c-eed4-02eeb6ef623b",
        "execution": {
          "iopub.status.busy": "2023-03-28T20:25:37.225002Z",
          "iopub.execute_input": "2023-03-28T20:25:37.225308Z",
          "iopub.status.idle": "2023-03-28T20:25:37.294370Z",
          "shell.execute_reply.started": "2023-03-28T20:25:37.225277Z",
          "shell.execute_reply": "2023-03-28T20:25:37.293268Z"
        },
        "trusted": true
      },
      "execution_count": null,
      "outputs": [
        {
          "execution_count": 2,
          "output_type": "execute_result",
          "data": {
            "text/plain": "device(type='cuda')"
          },
          "metadata": {}
        }
      ],
      "id": "igWHf3cqqcHp"
    },
    {
      "cell_type": "markdown",
      "source": [
        "# Dataset"
      ],
      "metadata": {
        "id": "3JRCiskT57dr"
      },
      "id": "3JRCiskT57dr"
    },
    {
      "cell_type": "code",
      "source": [
        "batch_size = 50"
      ],
      "metadata": {
        "id": "Tw48h2_Ohm2H",
        "execution": {
          "iopub.status.busy": "2023-03-28T20:25:37.295936Z",
          "iopub.execute_input": "2023-03-28T20:25:37.296580Z",
          "iopub.status.idle": "2023-03-28T20:25:37.305919Z",
          "shell.execute_reply.started": "2023-03-28T20:25:37.296541Z",
          "shell.execute_reply": "2023-03-28T20:25:37.304913Z"
        },
        "trusted": true
      },
      "execution_count": null,
      "outputs": [],
      "id": "Tw48h2_Ohm2H"
    },
    {
      "cell_type": "code",
      "source": [
        "(x, y), (test_X, test_y) = mnist.load_data()\n",
        "train_X, val_X, train_y, val_y = train_test_split(x, y, test_size=0.16666666666666666667, random_state=42, stratify=y)\n",
        "\n",
        "val_X = torch.tensor(val_X, dtype=torch.float32).unsqueeze(1)\n",
        "val_y = torch.tensor(val_y, dtype=torch.long)\n",
        "test_X = torch.tensor(test_X, dtype=torch.float32).unsqueeze(1)\n",
        "test_y = torch.tensor(test_y, dtype=torch.long)\n",
        "\n",
        "# changelog - augmentacia\n",
        "train_transform = Compose([\n",
        "    ToPILImage(),\n",
        "    RandomRotation(degrees=(-20, 20)),\n",
        "    RandomAffine(degrees=0, translate=(0.1, 0.1)),\n",
        "])\n",
        "\n",
        "# train_transform = Compose([\n",
        "#     ToPILImage(),\n",
        "#     transforms.RandomHorizontalFlip(),\n",
        "#     transforms.RandomVerticalFlip()\n",
        "# ])\n",
        "\n",
        "\n",
        "train_X = [train_transform(x) for x in train_X]\n",
        "\n",
        "train_X = torch.stack([transforms.ToTensor()(x) for x in train_X])\n",
        "train_y = torch.tensor(train_y, dtype=torch.long)\n",
        "\n",
        "\n",
        "train_dataset = TensorDataset(train_X, train_y)\n",
        "train_loader = DataLoader(train_dataset, batch_size=batch_size, shuffle=True)\n",
        "\n",
        "val_dataset = TensorDataset(val_X, val_y)\n",
        "val_loader = DataLoader(val_dataset, batch_size=batch_size, shuffle=True)\n",
        "\n",
        "test_dataset = TensorDataset(test_X, test_y)\n",
        "test_loader = DataLoader(test_dataset, batch_size=batch_size, shuffle=True)\n",
        "\n",
        "print('X_train: ' + str(train_X.shape))\n",
        "print('Y_train: ' + str(train_y.shape))\n",
        "print('X_val: ' + str(val_X.shape))\n",
        "print('Y_val: ' + str(val_y.shape))\n",
        "print('X_test:  '  + str(test_X.shape))\n",
        "print('Y_test:  '  + str(test_y.shape))"
      ],
      "metadata": {
        "id": "bUndM3P1Pg5p",
        "outputId": "11aec19f-3583-4493-a8cb-ed141a07a492",
        "colab": {
          "base_uri": "https://localhost:8080/"
        },
        "execution": {
          "iopub.status.busy": "2023-03-28T20:25:37.309747Z",
          "iopub.execute_input": "2023-03-28T20:25:37.310658Z",
          "iopub.status.idle": "2023-03-28T20:25:49.540120Z",
          "shell.execute_reply.started": "2023-03-28T20:25:37.310628Z",
          "shell.execute_reply": "2023-03-28T20:25:49.538932Z"
        },
        "trusted": true
      },
      "execution_count": null,
      "outputs": [
        {
          "name": "stdout",
          "text": "Downloading data from https://storage.googleapis.com/tensorflow/tf-keras-datasets/mnist.npz\n11490434/11490434 [==============================] - 0s 0us/step\nX_train: torch.Size([50000, 1, 28, 28])\nY_train: torch.Size([50000])\nX_val: torch.Size([10000, 1, 28, 28])\nY_val: torch.Size([10000])\nX_test:  torch.Size([10000, 1, 28, 28])\nY_test:  torch.Size([10000])\n",
          "output_type": "stream"
        }
      ],
      "id": "bUndM3P1Pg5p"
    },
    {
      "cell_type": "markdown",
      "source": [
        "# Training"
      ],
      "metadata": {
        "id": "TFMLZ_pjS0rm"
      },
      "id": "TFMLZ_pjS0rm"
    },
    {
      "cell_type": "code",
      "source": [
        "# changelog - hyperparametre, odstranovanie overfitu\n",
        "\n",
        "num_epochs = 25\n",
        "num_classes = 10\n",
        "learning_rate = 0.00001\n",
        "# learning_rate = 0.0001\n",
        "regularizer_learning_rate = 0.0001"
      ],
      "metadata": {
        "id": "UauoWOHsZxp-",
        "execution": {
          "iopub.status.busy": "2023-03-28T20:25:49.543580Z",
          "iopub.execute_input": "2023-03-28T20:25:49.543980Z",
          "iopub.status.idle": "2023-03-28T20:25:49.549306Z",
          "shell.execute_reply.started": "2023-03-28T20:25:49.543942Z",
          "shell.execute_reply": "2023-03-28T20:25:49.548204Z"
        },
        "trusted": true
      },
      "execution_count": null,
      "outputs": [],
      "id": "UauoWOHsZxp-"
    },
    {
      "cell_type": "code",
      "source": [
        "class Net(nn.Module):\n",
        "    def __init__(self, num_classes, l2=regularizer_learning_rate):\n",
        "        super(Net, self).__init__()\n",
        "        self.conv_layer1 = nn.Conv2d(in_channels=1, out_channels=64, kernel_size=3, padding=1)\n",
        "        self.conv_layer1.weight = nn.Parameter(self.conv_layer1.weight + l2 * torch.rand_like(self.conv_layer1.weight))\n",
        "        self.max_pool1 = nn.MaxPool2d(kernel_size=2, stride=2)\n",
        "\n",
        "        self.conv_layer2 = nn.Conv2d(in_channels=64, out_channels=64, kernel_size=3, padding=1)\n",
        "        self.conv_layer2.weight = nn.Parameter(self.conv_layer2.weight + l2 * torch.rand_like(self.conv_layer2.weight))\n",
        "        self.max_pool2 = nn.MaxPool2d(kernel_size=2, stride=2)\n",
        "\n",
        "        self.conv_layer3 = nn.Conv2d(in_channels=64, out_channels=128, kernel_size=3, padding=1)\n",
        "        self.conv_layer3.weight = nn.Parameter(self.conv_layer3.weight + l2 * torch.rand_like(self.conv_layer3.weight))\n",
        "        self.max_pool3 = nn.MaxPool2d(kernel_size=2, stride=2)\n",
        "\n",
        "        self.dropout = nn.Dropout(p=0.2)\n",
        "\n",
        "        self.fc1 = nn.Linear(in_features=1152, out_features=512)\n",
        "        self.fc1.weight = nn.Parameter(self.fc1.weight + l2 * torch.rand_like(self.fc1.weight))\n",
        "\n",
        "        self.fc2 = nn.Linear(in_features=512, out_features=num_classes)\n",
        "        self.fc2.weight = nn.Parameter(self.fc2.weight + l2 * torch.rand_like(self.fc2.weight))\n",
        "\n",
        "        self.relu = nn.ReLU()\n",
        "        self.softmax = nn.Softmax(dim=1)\n",
        "\n",
        "    def forward(self, out):\n",
        "        out = self.conv_layer1(out)\n",
        "        out = self.relu(out)\n",
        "        out = self.max_pool1(out)\n",
        "\n",
        "        out = self.conv_layer2(out)\n",
        "        out = self.relu(out)\n",
        "        out = self.max_pool2(out)\n",
        "\n",
        "        out = self.conv_layer3(out)\n",
        "        out = self.relu(out)\n",
        "        out = self.max_pool3(out)\n",
        "\n",
        "        out = self.dropout(out)\n",
        "        out = out.view(out.size(0), -1)\n",
        "\n",
        "        out = self.fc1(out)\n",
        "        out = self.relu(out)\n",
        "\n",
        "        out = self.fc2(out)\n",
        "        out = self.softmax(out)\n",
        "        return out\n"
      ],
      "metadata": {
        "id": "0p1PcM5kSo3y",
        "execution": {
          "iopub.status.busy": "2023-03-28T20:25:49.550893Z",
          "iopub.execute_input": "2023-03-28T20:25:49.551562Z",
          "iopub.status.idle": "2023-03-28T20:25:49.566530Z",
          "shell.execute_reply.started": "2023-03-28T20:25:49.551525Z",
          "shell.execute_reply": "2023-03-28T20:25:49.565460Z"
        },
        "trusted": true
      },
      "execution_count": null,
      "outputs": [],
      "id": "0p1PcM5kSo3y"
    },
    {
      "cell_type": "code",
      "source": [
        "model = Net(num_classes).to(device)\n",
        "criterion = nn.CrossEntropyLoss()\n",
        "# optimizer = torch.optim.RMSprop(model.parameters(), lr=learning_rate)\n",
        "optimizer = torch.optim.Adam(model.parameters(), lr=learning_rate)\n",
        "total_step = len(train_loader) "
      ],
      "metadata": {
        "id": "h13HKLMwYoBu",
        "execution": {
          "iopub.status.busy": "2023-03-28T20:25:49.568024Z",
          "iopub.execute_input": "2023-03-28T20:25:49.568434Z",
          "iopub.status.idle": "2023-03-28T20:25:54.716402Z",
          "shell.execute_reply.started": "2023-03-28T20:25:49.568397Z",
          "shell.execute_reply": "2023-03-28T20:25:54.715357Z"
        },
        "trusted": true
      },
      "execution_count": null,
      "outputs": [],
      "id": "h13HKLMwYoBu"
    },
    {
      "cell_type": "code",
      "source": [
        "wandb.init(project=\"Nsiete_zadanie1_pytorch\")"
      ],
      "metadata": {
        "colab": {
          "base_uri": "https://localhost:8080/",
          "height": 497,
          "referenced_widgets": [
            "2cd023f759a34115a49bb7b5231a51c6",
            "9e958e2b36d040059607bde3af5c3d62",
            "0b3842ebff4b4d14aa5d6317b374446b",
            "104a690e60c540169a74b239361a9ec6",
            "0e6efb9e07ec478590e3a5b71fbea3e5",
            "2560ca5da1b949baa5c65da743fc41df",
            "c25c6af6950647a686784440114aeb1a",
            "9246e1277d9f432996c0569f2f4c2a63"
          ]
        },
        "id": "7EagT_HCYvDb",
        "outputId": "6f11965a-ca3c-43da-badf-2886272fe0df",
        "execution": {
          "iopub.status.busy": "2023-03-28T20:25:54.717994Z",
          "iopub.execute_input": "2023-03-28T20:25:54.718362Z",
          "iopub.status.idle": "2023-03-28T20:26:48.505183Z",
          "shell.execute_reply.started": "2023-03-28T20:25:54.718322Z",
          "shell.execute_reply": "2023-03-28T20:26:48.504153Z"
        },
        "trusted": true
      },
      "execution_count": null,
      "outputs": [
        {
          "name": "stderr",
          "text": "\u001b[34m\u001b[1mwandb\u001b[0m: Logging into wandb.ai. (Learn how to deploy a W&B server locally: https://wandb.me/wandb-server)\n\u001b[34m\u001b[1mwandb\u001b[0m: You can find your API key in your browser here: https://wandb.ai/authorize\n\u001b[34m\u001b[1mwandb\u001b[0m: Paste an API key from your profile and hit enter, or press ctrl+c to quit:",
          "output_type": "stream"
        },
        {
          "output_type": "stream",
          "name": "stdin",
          "text": "  ········································\n"
        },
        {
          "name": "stderr",
          "text": "\u001b[34m\u001b[1mwandb\u001b[0m: Appending key for api.wandb.ai to your netrc file: /root/.netrc\n",
          "output_type": "stream"
        },
        {
          "output_type": "display_data",
          "data": {
            "text/plain": "<IPython.core.display.HTML object>",
            "text/html": "wandb version 0.14.0 is available!  To upgrade, please run:\n $ pip install wandb --upgrade"
          },
          "metadata": {}
        },
        {
          "output_type": "display_data",
          "data": {
            "text/plain": "<IPython.core.display.HTML object>",
            "text/html": "Tracking run with wandb version 0.13.10"
          },
          "metadata": {}
        },
        {
          "output_type": "display_data",
          "data": {
            "text/plain": "<IPython.core.display.HTML object>",
            "text/html": "Run data is saved locally in <code>/kaggle/working/wandb/run-20230328_202617-2r8dpp1g</code>"
          },
          "metadata": {}
        },
        {
          "output_type": "display_data",
          "data": {
            "text/plain": "<IPython.core.display.HTML object>",
            "text/html": "Syncing run <strong><a href='https://wandb.ai/nsiete23-gaza-kuran/Nsiete_zadanie1_pytorch/runs/2r8dpp1g' target=\"_blank\">balmy-darkness-30</a></strong> to <a href='https://wandb.ai/nsiete23-gaza-kuran/Nsiete_zadanie1_pytorch' target=\"_blank\">Weights & Biases</a> (<a href='https://wandb.me/run' target=\"_blank\">docs</a>)<br/>"
          },
          "metadata": {}
        },
        {
          "output_type": "display_data",
          "data": {
            "text/plain": "<IPython.core.display.HTML object>",
            "text/html": " View project at <a href='https://wandb.ai/nsiete23-gaza-kuran/Nsiete_zadanie1_pytorch' target=\"_blank\">https://wandb.ai/nsiete23-gaza-kuran/Nsiete_zadanie1_pytorch</a>"
          },
          "metadata": {}
        },
        {
          "output_type": "display_data",
          "data": {
            "text/plain": "<IPython.core.display.HTML object>",
            "text/html": " View run at <a href='https://wandb.ai/nsiete23-gaza-kuran/Nsiete_zadanie1_pytorch/runs/2r8dpp1g' target=\"_blank\">https://wandb.ai/nsiete23-gaza-kuran/Nsiete_zadanie1_pytorch/runs/2r8dpp1g</a>"
          },
          "metadata": {}
        },
        {
          "execution_count": 8,
          "output_type": "execute_result",
          "data": {
            "text/html": "<button onClick=\"this.nextSibling.style.display='block';this.style.display='none';\">Display W&B run</button><iframe src='https://wandb.ai/nsiete23-gaza-kuran/Nsiete_zadanie1_pytorch/runs/2r8dpp1g?jupyter=true' style='border:none;width:100%;height:420px;display:none;'></iframe>",
            "text/plain": "<wandb.sdk.wandb_run.Run at 0x7fe61ce48910>"
          },
          "metadata": {}
        }
      ],
      "id": "7EagT_HCYvDb"
    },
    {
      "cell_type": "code",
      "source": [
        "wandb.config.batch_size = batch_size\n",
        "wandb.config.epochs = num_epochs\n",
        "wandb.config.optimizer_learning_rate = learning_rate\n",
        "wandb.config.regularizer_learning_rate = regularizer_learning_rate"
      ],
      "metadata": {
        "id": "-CcxyKNja4w8",
        "execution": {
          "iopub.status.busy": "2023-03-28T20:26:48.509502Z",
          "iopub.execute_input": "2023-03-28T20:26:48.512188Z",
          "iopub.status.idle": "2023-03-28T20:26:48.523176Z",
          "shell.execute_reply.started": "2023-03-28T20:26:48.512148Z",
          "shell.execute_reply": "2023-03-28T20:26:48.522022Z"
        },
        "trusted": true
      },
      "execution_count": null,
      "outputs": [],
      "id": "-CcxyKNja4w8"
    },
    {
      "cell_type": "code",
      "source": [
        "for epoch in range(num_epochs):\n",
        "  \n",
        "    train_loss = 0\n",
        "    train_correct = 0\n",
        "    train_total = 0\n",
        "    for i, (images, labels) in enumerate(train_loader):  \n",
        "        images = images.to(device)\n",
        "        labels = labels.to(device)\n",
        "        \n",
        "        outputs = model(images)\n",
        "        loss = criterion(outputs, labels)\n",
        "        \n",
        "        optimizer.zero_grad()\n",
        "        loss.backward()\n",
        "        optimizer.step()\n",
        "        \n",
        "        train_loss += loss.item()\n",
        "        _, predicted = torch.max(outputs.data, 1)\n",
        "        train_total += labels.size(0)\n",
        "        train_correct += (predicted == labels).sum().item()\n",
        "\n",
        "    val_loss = 0\n",
        "    val_correct = 0\n",
        "    val_total = 0\n",
        "    with torch.no_grad():\n",
        "        for images, labels in val_loader:\n",
        "            images = images.to(device)\n",
        "            labels = labels.to(device)\n",
        "\n",
        "            outputs = model(images)\n",
        "            loss = criterion(outputs, labels)\n",
        "\n",
        "            val_loss += loss.item()\n",
        "            _, predicted = torch.max(outputs.data, 1)\n",
        "            val_total += labels.size(0)\n",
        "            val_correct += (predicted == labels).sum().item()\n",
        "            \n",
        "    train_acc = 100*train_correct/train_total\n",
        "    val_acc = 100*val_correct/val_total\n",
        "\n",
        "    print('Epoch [{}/{}], Train Loss: {:.4f}, Train Acc: {:.2f}%, Val Loss: {:.4f}, Val Acc: {:.2f}%'\n",
        "          .format(epoch+1, num_epochs, train_loss/(i+1), train_acc, val_loss/len(val_loader), val_acc))\n",
        "\n",
        "    wandb.log({\"epoch\": epoch+1, \"train_loss\": train_loss/(i+1), \"train_acc\": train_acc, \"val_loss\": val_loss/len(val_loader), \"val_acc\": val_acc})\n",
        "            \n",
        "            \n",
        "torch.save(model.state_dict(), \"/mnist_classification_model.pt\")\n",
        "wandb.save(\"/mnist_classification_model.pt\")"
      ],
      "metadata": {
        "id": "nDyfGzmjZLRM",
        "outputId": "f8b1ccd4-38eb-443d-8906-0220d83b49a6",
        "colab": {
          "base_uri": "https://localhost:8080/"
        },
        "execution": {
          "iopub.status.busy": "2023-03-28T20:26:48.528215Z",
          "iopub.execute_input": "2023-03-28T20:26:48.530562Z",
          "iopub.status.idle": "2023-03-28T20:28:32.371960Z",
          "shell.execute_reply.started": "2023-03-28T20:26:48.530512Z",
          "shell.execute_reply": "2023-03-28T20:28:32.370942Z"
        },
        "trusted": true
      },
      "execution_count": null,
      "outputs": [
        {
          "name": "stdout",
          "text": "Epoch [1/25], Train Loss: 2.1871, Train Acc: 30.26%, Val Loss: 1.8848, Val Acc: 57.61%\nEpoch [2/25], Train Loss: 1.9447, Train Acc: 54.89%, Val Loss: 1.7849, Val Acc: 67.61%\nEpoch [3/25], Train Loss: 1.8775, Train Acc: 60.39%, Val Loss: 1.7677, Val Acc: 69.34%\nEpoch [4/25], Train Loss: 1.8265, Train Acc: 65.44%, Val Loss: 1.7008, Val Acc: 76.02%\nEpoch [5/25], Train Loss: 1.7771, Train Acc: 70.43%, Val Loss: 1.6691, Val Acc: 79.19%\nEpoch [6/25], Train Loss: 1.7439, Train Acc: 73.53%, Val Loss: 1.6443, Val Acc: 81.68%\nEpoch [7/25], Train Loss: 1.6986, Train Acc: 78.48%, Val Loss: 1.5801, Val Acc: 88.11%\nEpoch [8/25], Train Loss: 1.6576, Train Acc: 82.64%, Val Loss: 1.5643, Val Acc: 89.68%\nEpoch [9/25], Train Loss: 1.6341, Train Acc: 84.56%, Val Loss: 1.5475, Val Acc: 91.35%\nEpoch [10/25], Train Loss: 1.6166, Train Acc: 86.18%, Val Loss: 1.5400, Val Acc: 92.12%\nEpoch [11/25], Train Loss: 1.6044, Train Acc: 87.22%, Val Loss: 1.5309, Val Acc: 93.02%\nEpoch [12/25], Train Loss: 1.5949, Train Acc: 88.07%, Val Loss: 1.5316, Val Acc: 92.96%\nEpoch [13/25], Train Loss: 1.5854, Train Acc: 88.86%, Val Loss: 1.5267, Val Acc: 93.44%\nEpoch [14/25], Train Loss: 1.5800, Train Acc: 89.31%, Val Loss: 1.5191, Val Acc: 94.20%\nEpoch [15/25], Train Loss: 1.5732, Train Acc: 89.85%, Val Loss: 1.5196, Val Acc: 94.15%\nEpoch [16/25], Train Loss: 1.5683, Train Acc: 90.34%, Val Loss: 1.5190, Val Acc: 94.22%\nEpoch [17/25], Train Loss: 1.5641, Train Acc: 90.79%, Val Loss: 1.5133, Val Acc: 94.78%\nEpoch [18/25], Train Loss: 1.5592, Train Acc: 91.12%, Val Loss: 1.5170, Val Acc: 94.41%\nEpoch [19/25], Train Loss: 1.5557, Train Acc: 91.42%, Val Loss: 1.5166, Val Acc: 94.46%\nEpoch [20/25], Train Loss: 1.5528, Train Acc: 91.75%, Val Loss: 1.5094, Val Acc: 95.17%\nEpoch [21/25], Train Loss: 1.5501, Train Acc: 91.93%, Val Loss: 1.5105, Val Acc: 95.07%\nEpoch [22/25], Train Loss: 1.5466, Train Acc: 92.25%, Val Loss: 1.5073, Val Acc: 95.39%\nEpoch [23/25], Train Loss: 1.5437, Train Acc: 92.57%, Val Loss: 1.5088, Val Acc: 95.24%\nEpoch [24/25], Train Loss: 1.5421, Train Acc: 92.66%, Val Loss: 1.5060, Val Acc: 95.51%\n",
          "output_type": "stream"
        },
        {
          "name": "stderr",
          "text": "\u001b[34m\u001b[1mwandb\u001b[0m: \u001b[33mWARNING\u001b[0m Saving files without folders. If you want to preserve sub directories pass base_path to wandb.save, i.e. wandb.save(\"/mnt/folder/file.h5\", base_path=\"/mnt\")\n",
          "output_type": "stream"
        },
        {
          "name": "stdout",
          "text": "Epoch [25/25], Train Loss: 1.5390, Train Acc: 92.93%, Val Loss: 1.5039, Val Acc: 95.72%\n",
          "output_type": "stream"
        },
        {
          "execution_count": 10,
          "output_type": "execute_result",
          "data": {
            "text/plain": "['/kaggle/working/wandb/run-20230328_202617-2r8dpp1g/files/mnist_classification_model.pt']"
          },
          "metadata": {}
        }
      ],
      "id": "nDyfGzmjZLRM"
    },
    {
      "cell_type": "code",
      "source": [
        "with torch.no_grad():\n",
        "    correct = 0\n",
        "    total = 0\n",
        "    total_loss = 0\n",
        "    \n",
        "    for images, labels in test_loader:\n",
        "        images = images.to(device)\n",
        "        labels = labels.to(device)\n",
        "        outputs = model(images)\n",
        "        _, predicted = torch.max(outputs.data, 1)\n",
        "        total += labels.size(0)\n",
        "        correct += (predicted == labels).sum().item()\n",
        "        loss = criterion(outputs, labels)\n",
        "        total_loss += loss.item() * labels.size(0)\n",
        "    \n",
        "    print('Test accuracy: {:.2f} %'.format(100 * correct / total))\n",
        "    print('Average loss: {:.4f}'.format(total_loss / total))"
      ],
      "metadata": {
        "colab": {
          "base_uri": "https://localhost:8080/"
        },
        "id": "9VfggPaodPFd",
        "outputId": "7340e79c-98d4-4618-f1df-a7577daf5c12",
        "execution": {
          "iopub.status.busy": "2023-03-28T20:28:32.376504Z",
          "iopub.execute_input": "2023-03-28T20:28:32.376792Z",
          "iopub.status.idle": "2023-03-28T20:28:32.691231Z",
          "shell.execute_reply.started": "2023-03-28T20:28:32.376765Z",
          "shell.execute_reply": "2023-03-28T20:28:32.689969Z"
        },
        "trusted": true
      },
      "execution_count": null,
      "outputs": [
        {
          "name": "stdout",
          "text": "Test accuracy: 96.21 %\nAverage loss: 1.4990\n",
          "output_type": "stream"
        }
      ],
      "id": "9VfggPaodPFd"
    }
  ]
}