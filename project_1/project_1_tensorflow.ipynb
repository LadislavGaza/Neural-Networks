{
  "metadata": {
    "kernelspec": {
      "language": "python",
      "display_name": "Python 3",
      "name": "python3"
    },
    "language_info": {
      "name": "python",
      "version": "3.7.12",
      "mimetype": "text/x-python",
      "codemirror_mode": {
        "name": "ipython",
        "version": 3
      },
      "pygments_lexer": "ipython3",
      "nbconvert_exporter": "python",
      "file_extension": ".py"
    },
    "colab": {
      "provenance": []
    },
    "accelerator": "GPU",
    "gpuClass": "standard"
  },
  "nbformat_minor": 0,
  "nbformat": 4,
  "cells": [
    {
      "cell_type": "code",
      "source": [
        "from keras.datasets import mnist\n",
        "import numpy as np\n",
        "import matplotlib.pyplot as plt\n",
        "import tensorflow as tf\n",
        "from tensorflow.keras import regularizers\n",
        "!pip install keras_preprocessing\n",
        "import os\n",
        "from keras.utils import to_categorical\n",
        "from keras_preprocessing.image import ImageDataGenerator\n",
        "from sklearn.model_selection import train_test_split\n",
        "!pip install wandb\n",
        "import wandb\n",
        "from wandb.keras import WandbCallback"
      ],
      "metadata": {
        "id": "8e130509",
        "outputId": "436544f3-c8ec-4a04-ba7d-12b9dfa41592",
        "execution": {
          "iopub.status.busy": "2023-03-28T19:13:19.686999Z",
          "iopub.execute_input": "2023-03-28T19:13:19.687281Z",
          "iopub.status.idle": "2023-03-28T19:13:48.008908Z",
          "shell.execute_reply.started": "2023-03-28T19:13:19.687252Z",
          "shell.execute_reply": "2023-03-28T19:13:48.007730Z"
        },
        "trusted": true,
        "colab": {
          "base_uri": "https://localhost:8080/"
        }
      },
      "execution_count": null,
      "outputs": [
        {
          "output_type": "stream",
          "name": "stdout",
          "text": [
            "Looking in indexes: https://pypi.org/simple, https://us-python.pkg.dev/colab-wheels/public/simple/\n",
            "Requirement already satisfied: keras_preprocessing in /usr/local/lib/python3.9/dist-packages (1.1.2)\n",
            "Requirement already satisfied: six>=1.9.0 in /usr/local/lib/python3.9/dist-packages (from keras_preprocessing) (1.16.0)\n",
            "Requirement already satisfied: numpy>=1.9.1 in /usr/local/lib/python3.9/dist-packages (from keras_preprocessing) (1.22.4)\n",
            "Looking in indexes: https://pypi.org/simple, https://us-python.pkg.dev/colab-wheels/public/simple/\n",
            "Requirement already satisfied: wandb in /usr/local/lib/python3.9/dist-packages (0.14.0)\n",
            "Requirement already satisfied: typing-extensions in /usr/local/lib/python3.9/dist-packages (from wandb) (4.5.0)\n",
            "Requirement already satisfied: pathtools in /usr/local/lib/python3.9/dist-packages (from wandb) (0.1.2)\n",
            "Requirement already satisfied: appdirs>=1.4.3 in /usr/local/lib/python3.9/dist-packages (from wandb) (1.4.4)\n",
            "Requirement already satisfied: setproctitle in /usr/local/lib/python3.9/dist-packages (from wandb) (1.3.2)\n",
            "Requirement already satisfied: psutil>=5.0.0 in /usr/local/lib/python3.9/dist-packages (from wandb) (5.9.4)\n",
            "Requirement already satisfied: setuptools in /usr/local/lib/python3.9/dist-packages (from wandb) (67.6.0)\n",
            "Requirement already satisfied: GitPython!=3.1.29,>=1.0.0 in /usr/local/lib/python3.9/dist-packages (from wandb) (3.1.31)\n",
            "Requirement already satisfied: protobuf!=4.21.0,<5,>=3.15.0 in /usr/local/lib/python3.9/dist-packages (from wandb) (3.19.6)\n",
            "Requirement already satisfied: sentry-sdk>=1.0.0 in /usr/local/lib/python3.9/dist-packages (from wandb) (1.18.0)\n",
            "Requirement already satisfied: Click!=8.0.0,>=7.0 in /usr/local/lib/python3.9/dist-packages (from wandb) (8.1.3)\n",
            "Requirement already satisfied: docker-pycreds>=0.4.0 in /usr/local/lib/python3.9/dist-packages (from wandb) (0.4.0)\n",
            "Requirement already satisfied: PyYAML in /usr/local/lib/python3.9/dist-packages (from wandb) (6.0)\n",
            "Requirement already satisfied: requests<3,>=2.0.0 in /usr/local/lib/python3.9/dist-packages (from wandb) (2.27.1)\n",
            "Requirement already satisfied: six>=1.4.0 in /usr/local/lib/python3.9/dist-packages (from docker-pycreds>=0.4.0->wandb) (1.16.0)\n",
            "Requirement already satisfied: gitdb<5,>=4.0.1 in /usr/local/lib/python3.9/dist-packages (from GitPython!=3.1.29,>=1.0.0->wandb) (4.0.10)\n",
            "Requirement already satisfied: idna<4,>=2.5 in /usr/local/lib/python3.9/dist-packages (from requests<3,>=2.0.0->wandb) (3.4)\n",
            "Requirement already satisfied: charset-normalizer~=2.0.0 in /usr/local/lib/python3.9/dist-packages (from requests<3,>=2.0.0->wandb) (2.0.12)\n",
            "Requirement already satisfied: certifi>=2017.4.17 in /usr/local/lib/python3.9/dist-packages (from requests<3,>=2.0.0->wandb) (2022.12.7)\n",
            "Requirement already satisfied: urllib3<1.27,>=1.21.1 in /usr/local/lib/python3.9/dist-packages (from requests<3,>=2.0.0->wandb) (1.26.15)\n",
            "Requirement already satisfied: smmap<6,>=3.0.1 in /usr/local/lib/python3.9/dist-packages (from gitdb<5,>=4.0.1->GitPython!=3.1.29,>=1.0.0->wandb) (5.0.0)\n"
          ]
        }
      ]
    },
    {
      "cell_type": "markdown",
      "source": [
        "# GPU"
      ],
      "metadata": {
        "id": "1PEIqFn04px-"
      }
    },
    {
      "cell_type": "code",
      "source": [
        "device_name = tf.test.gpu_device_name()\n",
        "if device_name != '/device:GPU:0':\n",
        "  raise SystemError('GPU device not found')\n",
        "print('Found GPU at: {}'.format(device_name))"
      ],
      "metadata": {
        "id": "pf8BjSm0Yk1h",
        "outputId": "17a61fe3-a6be-4a6c-c0ce-716b80f2dc2d",
        "execution": {
          "iopub.status.busy": "2023-03-28T19:13:48.011556Z",
          "iopub.execute_input": "2023-03-28T19:13:48.011972Z",
          "iopub.status.idle": "2023-03-28T19:13:49.972154Z",
          "shell.execute_reply.started": "2023-03-28T19:13:48.011910Z",
          "shell.execute_reply": "2023-03-28T19:13:49.970722Z"
        },
        "trusted": true,
        "colab": {
          "base_uri": "https://localhost:8080/"
        }
      },
      "execution_count": null,
      "outputs": [
        {
          "output_type": "stream",
          "name": "stdout",
          "text": [
            "Found GPU at: /device:GPU:0\n"
          ]
        }
      ]
    },
    {
      "cell_type": "markdown",
      "source": [
        "# Dataset"
      ],
      "metadata": {
        "id": "3JRCiskT57dr"
      }
    },
    {
      "cell_type": "code",
      "source": [
        "(x, y), (test_X, test_y) = mnist.load_data()\n",
        "train_X, val_X, train_y, val_y = train_test_split(x, y, test_size=0.16666666666666666667, random_state=42, stratify=y)\n",
        "print('X_train: ' + str(train_X.shape))\n",
        "print('Y_train: ' + str(train_y.shape))\n",
        "print('X_val: ' + str(val_X.shape))\n",
        "print('Y_val: ' + str(val_y.shape))\n",
        "print('X_test:  '  + str(test_X.shape))\n",
        "print('Y_test:  '  + str(test_y.shape))"
      ],
      "metadata": {
        "id": "bUndM3P1Pg5p",
        "outputId": "17388ef5-d253-42db-fdbd-bcdb45eee73a",
        "execution": {
          "iopub.status.busy": "2023-03-28T19:13:49.973840Z",
          "iopub.execute_input": "2023-03-28T19:13:49.974610Z",
          "iopub.status.idle": "2023-03-28T19:13:51.964118Z",
          "shell.execute_reply.started": "2023-03-28T19:13:49.974529Z",
          "shell.execute_reply": "2023-03-28T19:13:51.962866Z"
        },
        "trusted": true,
        "colab": {
          "base_uri": "https://localhost:8080/"
        }
      },
      "execution_count": null,
      "outputs": [
        {
          "output_type": "stream",
          "name": "stdout",
          "text": [
            "X_train: (50000, 28, 28)\n",
            "Y_train: (50000,)\n",
            "X_val: (10000, 28, 28)\n",
            "Y_val: (10000,)\n",
            "X_test:  (10000, 28, 28)\n",
            "Y_test:  (10000,)\n"
          ]
        }
      ]
    },
    {
      "cell_type": "markdown",
      "source": [
        "# Training"
      ],
      "metadata": {
        "id": "TFMLZ_pjS0rm"
      }
    },
    {
      "cell_type": "code",
      "source": [
        "IMG_PX_SIZE = 28\n",
        "train_X = train_X.reshape(train_X.shape[0], IMG_PX_SIZE, IMG_PX_SIZE, 1).astype('float32')\n",
        "val_X = val_X.reshape(val_X.shape[0], IMG_PX_SIZE, IMG_PX_SIZE, 1).astype('float32')\n",
        "test_X = test_X.reshape(test_X.shape[0], IMG_PX_SIZE, IMG_PX_SIZE, 1).astype('float32')\n",
        "train_X /= 255\n",
        "val_X /= 255\n",
        "test_X /= 255\n",
        "train_y = to_categorical(train_y, 10)\n",
        "val_y = to_categorical(val_y, 10)\n",
        "test_y = to_categorical(test_y, 10)"
      ],
      "metadata": {
        "id": "kyEu51nz64cS",
        "execution": {
          "iopub.status.busy": "2023-03-28T19:13:51.967175Z",
          "iopub.execute_input": "2023-03-28T19:13:51.967638Z",
          "iopub.status.idle": "2023-03-28T19:13:52.051185Z",
          "shell.execute_reply.started": "2023-03-28T19:13:51.967598Z",
          "shell.execute_reply": "2023-03-28T19:13:52.050071Z"
        },
        "trusted": true
      },
      "execution_count": null,
      "outputs": []
    },
    {
      "cell_type": "code",
      "source": [
        "wandb.init(project=\"Nsiete_zadanie1_tensorflow\")"
      ],
      "metadata": {
        "id": "iRWqwnMrZ1sl",
        "outputId": "11af7dd2-2c07-4189-9ae1-fb230f53d500",
        "execution": {
          "iopub.status.busy": "2023-03-28T19:13:52.052536Z",
          "iopub.execute_input": "2023-03-28T19:13:52.053176Z",
          "iopub.status.idle": "2023-03-28T19:14:52.465880Z",
          "shell.execute_reply.started": "2023-03-28T19:13:52.053136Z",
          "shell.execute_reply": "2023-03-28T19:14:52.464848Z"
        },
        "trusted": true,
        "colab": {
          "base_uri": "https://localhost:8080/",
          "height": 519
        }
      },
      "execution_count": null,
      "outputs": [
        {
          "output_type": "display_data",
          "data": {
            "text/plain": [
              "<IPython.core.display.HTML object>"
            ],
            "text/html": [
              "Finishing last run (ID:lz9q60kq) before initializing another..."
            ]
          },
          "metadata": {}
        },
        {
          "output_type": "display_data",
          "data": {
            "text/plain": [
              "<IPython.core.display.HTML object>"
            ],
            "text/html": [
              "Waiting for W&B process to finish... <strong style=\"color:green\">(success).</strong>"
            ]
          },
          "metadata": {}
        },
        {
          "output_type": "display_data",
          "data": {
            "text/plain": [
              "<IPython.core.display.HTML object>"
            ],
            "text/html": [
              "<style>\n",
              "    table.wandb td:nth-child(1) { padding: 0 10px; text-align: left ; width: auto;} td:nth-child(2) {text-align: left ; width: 100%}\n",
              "    .wandb-row { display: flex; flex-direction: row; flex-wrap: wrap; justify-content: flex-start; width: 100% }\n",
              "    .wandb-col { display: flex; flex-direction: column; flex-basis: 100%; flex: 1; padding: 10px; }\n",
              "    </style>\n",
              "<div class=\"wandb-row\"><div class=\"wandb-col\"><h3>Run history:</h3><br/><table class=\"wandb\"><tr><td>accuracy</td><td>▁▅▆▇▇▇▇▇▇████████████████</td></tr><tr><td>epoch</td><td>▁▁▂▂▂▂▃▃▃▄▄▄▅▅▅▅▆▆▆▇▇▇▇██</td></tr><tr><td>loss</td><td>█▄▃▂▂▂▂▂▂▂▁▁▁▁▁▁▁▁▁▁▁▁▁▁▁</td></tr><tr><td>test_acc</td><td>▁</td></tr><tr><td>test_loss</td><td>▁</td></tr><tr><td>val_accuracy</td><td>▁▃▅▆▆▆▆▆▆▇▇▇▇▇▇▇▇████████</td></tr><tr><td>val_loss</td><td>█▆▄▄▃▃▃▂▂▂▂▂▂▂▂▂▂▁▁▁▁▁▁▁▁</td></tr></table><br/></div><div class=\"wandb-col\"><h3>Run summary:</h3><br/><table class=\"wandb\"><tr><td>accuracy</td><td>0.97258</td></tr><tr><td>best_epoch</td><td>23</td></tr><tr><td>best_val_loss</td><td>0.08832</td></tr><tr><td>epoch</td><td>24</td></tr><tr><td>loss</td><td>0.12407</td></tr><tr><td>test_acc</td><td>0.9838</td></tr><tr><td>test_loss</td><td>0.08581</td></tr><tr><td>val_accuracy</td><td>0.9841</td></tr><tr><td>val_loss</td><td>0.08936</td></tr></table><br/></div></div>"
            ]
          },
          "metadata": {}
        },
        {
          "output_type": "display_data",
          "data": {
            "text/plain": [
              "<IPython.core.display.HTML object>"
            ],
            "text/html": [
              " View run <strong style=\"color:#cdcd00\">stellar-waterfall-35</strong> at: <a href='https://wandb.ai/nsiete23-gaza-kuran/Nsiete_zadanie1_tensorflow/runs/lz9q60kq' target=\"_blank\">https://wandb.ai/nsiete23-gaza-kuran/Nsiete_zadanie1_tensorflow/runs/lz9q60kq</a><br/>Synced 5 W&B file(s), 1 media file(s), 85 artifact file(s) and 1 other file(s)"
            ]
          },
          "metadata": {}
        },
        {
          "output_type": "display_data",
          "data": {
            "text/plain": [
              "<IPython.core.display.HTML object>"
            ],
            "text/html": [
              "Find logs at: <code>./wandb/run-20230328_200644-lz9q60kq/logs</code>"
            ]
          },
          "metadata": {}
        },
        {
          "output_type": "display_data",
          "data": {
            "text/plain": [
              "<IPython.core.display.HTML object>"
            ],
            "text/html": [
              "Successfully finished last run (ID:lz9q60kq). Initializing new run:<br/>"
            ]
          },
          "metadata": {}
        },
        {
          "output_type": "display_data",
          "data": {
            "text/plain": [
              "<IPython.core.display.HTML object>"
            ],
            "text/html": [
              "Tracking run with wandb version 0.14.0"
            ]
          },
          "metadata": {}
        },
        {
          "output_type": "display_data",
          "data": {
            "text/plain": [
              "<IPython.core.display.HTML object>"
            ],
            "text/html": [
              "Run data is saved locally in <code>/content/wandb/run-20230328_202323-apsnuqu6</code>"
            ]
          },
          "metadata": {}
        },
        {
          "output_type": "display_data",
          "data": {
            "text/plain": [
              "<IPython.core.display.HTML object>"
            ],
            "text/html": [
              "Syncing run <strong><a href='https://wandb.ai/nsiete23-gaza-kuran/Nsiete_zadanie1_tensorflow/runs/apsnuqu6' target=\"_blank\">logical-pond-36</a></strong> to <a href='https://wandb.ai/nsiete23-gaza-kuran/Nsiete_zadanie1_tensorflow' target=\"_blank\">Weights & Biases</a> (<a href='https://wandb.me/run' target=\"_blank\">docs</a>)<br/>"
            ]
          },
          "metadata": {}
        },
        {
          "output_type": "display_data",
          "data": {
            "text/plain": [
              "<IPython.core.display.HTML object>"
            ],
            "text/html": [
              " View project at <a href='https://wandb.ai/nsiete23-gaza-kuran/Nsiete_zadanie1_tensorflow' target=\"_blank\">https://wandb.ai/nsiete23-gaza-kuran/Nsiete_zadanie1_tensorflow</a>"
            ]
          },
          "metadata": {}
        },
        {
          "output_type": "display_data",
          "data": {
            "text/plain": [
              "<IPython.core.display.HTML object>"
            ],
            "text/html": [
              " View run at <a href='https://wandb.ai/nsiete23-gaza-kuran/Nsiete_zadanie1_tensorflow/runs/apsnuqu6' target=\"_blank\">https://wandb.ai/nsiete23-gaza-kuran/Nsiete_zadanie1_tensorflow/runs/apsnuqu6</a>"
            ]
          },
          "metadata": {}
        },
        {
          "output_type": "execute_result",
          "data": {
            "text/html": [
              "<button onClick=\"this.nextSibling.style.display='block';this.style.display='none';\">Display W&B run</button><iframe src='https://wandb.ai/nsiete23-gaza-kuran/Nsiete_zadanie1_tensorflow/runs/apsnuqu6?jupyter=true' style='border:none;width:100%;height:420px;display:none;'></iframe>"
            ],
            "text/plain": [
              "<wandb.sdk.wandb_run.Run at 0x7f318021c3a0>"
            ]
          },
          "metadata": {},
          "execution_count": 21
        }
      ]
    },
    {
      "cell_type": "code",
      "source": [
        "checkpoint_filepath = '/tmp/checkpoint'\n",
        "model_checkpoint_callback = tf.keras.callbacks.ModelCheckpoint(\n",
        "    filepath=checkpoint_filepath,\n",
        "    save_weights_only=True,\n",
        "    monitor='val_accuracy',\n",
        "    mode='max',\n",
        "    save_best_only=True)\n",
        "\n",
        "# changelog - hyperparametre, odstranovanie overfitu\n",
        "BATCH = 50\n",
        "EPOCHS = 25\n",
        "OPTIMIZER_LEARNING_RATE = 0.0001\n",
        "REGULARIZER_LEARNING_RATE = 0.0001\n",
        "IMG_PX_SIZE = 28\n",
        "\n",
        "wandb.config.batch_size = BATCH\n",
        "wandb.config.epochs = EPOCHS\n",
        "wandb.config.optimizer_learning_rate = OPTIMIZER_LEARNING_RATE\n",
        "wandb.config.regularizer_learning_rate = REGULARIZER_LEARNING_RATE\n",
        "\n",
        "# training_datagen = ImageDataGenerator(horizontal_flip=True, vertical_flip=True)\n",
        "# changelog - augmentacie\n",
        "training_datagen = ImageDataGenerator(rotation_range=20, fill_mode='nearest', width_shift_range=0.1, height_shift_range=0.1)\n",
        "train_generator = training_datagen.flow(train_X,train_y)\n",
        "\n",
        "validation_datagen = ImageDataGenerator()\n",
        "validation_generator = validation_datagen.flow(val_X,val_y)\n",
        "\n",
        "with tf.device('/gpu:0'):\n",
        "  model = tf.keras.models.Sequential([\n",
        "      tf.keras.layers.Conv2D(64, (3,3), activation='relu', kernel_regularizer=regularizers.l2(REGULARIZER_LEARNING_RATE), input_shape=(IMG_PX_SIZE, IMG_PX_SIZE, 1)),\n",
        "      tf.keras.layers.MaxPooling2D(2,2),\n",
        "      tf.keras.layers.Conv2D(64, (3,3), activation='relu', kernel_regularizer=regularizers.l2(REGULARIZER_LEARNING_RATE)),\n",
        "      tf.keras.layers.MaxPooling2D(2,2),\n",
        "      tf.keras.layers.Conv2D(128, (3,3), activation='relu', kernel_regularizer=regularizers.l2(REGULARIZER_LEARNING_RATE)),\n",
        "      tf.keras.layers.MaxPooling2D(2,2),\n",
        "      tf.keras.layers.Flatten(),\n",
        "      tf.keras.layers.Dropout(0.2),\n",
        "      tf.keras.layers.Dense(512, activation='relu', kernel_regularizer=regularizers.l2(REGULARIZER_LEARNING_RATE)),\n",
        "      tf.keras.layers.Dense(10, activation='softmax')\n",
        "  ])\n",
        "\n",
        "  model.summary()\n",
        "#   optimizer = tf.keras.optimizers.RMSprop(learning_rate=OPTIMIZER_LEARNING_RATE)\n",
        "  optimizer = tf.keras.optimizers.Adam(learning_rate=OPTIMIZER_LEARNING_RATE)\n",
        "\n",
        "  model.compile(loss='categorical_crossentropy', optimizer=optimizer, metrics=['accuracy'])\n",
        "    \n",
        "  history = model.fit(train_generator, epochs=EPOCHS, batch_size=BATCH, validation_data = validation_generator, shuffle=True, verbose = 1, callbacks=[model_checkpoint_callback, WandbCallback()])\n",
        "  model.load_weights(checkpoint_filepath)\n",
        "  model.save(\"/mnist_classification_model.h5\")"
      ],
      "metadata": {
        "id": "0p1PcM5kSo3y",
        "outputId": "098a1dbb-b6d2-4993-a8bd-214e26417aac",
        "execution": {
          "iopub.status.busy": "2023-03-28T19:14:52.470765Z",
          "iopub.execute_input": "2023-03-28T19:14:52.473157Z",
          "iopub.status.idle": "2023-03-28T19:21:10.072579Z",
          "shell.execute_reply.started": "2023-03-28T19:14:52.473113Z",
          "shell.execute_reply": "2023-03-28T19:21:10.071107Z"
        },
        "trusted": true,
        "colab": {
          "base_uri": "https://localhost:8080/"
        }
      },
      "execution_count": null,
      "outputs": [
        {
          "output_type": "stream",
          "name": "stdout",
          "text": [
            "Model: \"sequential_2\"\n",
            "_________________________________________________________________\n",
            " Layer (type)                Output Shape              Param #   \n",
            "=================================================================\n",
            " conv2d_6 (Conv2D)           (None, 26, 26, 64)        640       \n",
            "                                                                 \n",
            " max_pooling2d_6 (MaxPooling  (None, 13, 13, 64)       0         \n",
            " 2D)                                                             \n",
            "                                                                 \n",
            " conv2d_7 (Conv2D)           (None, 11, 11, 64)        36928     \n",
            "                                                                 \n",
            " max_pooling2d_7 (MaxPooling  (None, 5, 5, 64)         0         \n",
            " 2D)                                                             \n",
            "                                                                 \n",
            " conv2d_8 (Conv2D)           (None, 3, 3, 128)         73856     \n",
            "                                                                 \n",
            " max_pooling2d_8 (MaxPooling  (None, 1, 1, 128)        0         \n",
            " 2D)                                                             \n",
            "                                                                 \n",
            " flatten_2 (Flatten)         (None, 128)               0         \n",
            "                                                                 \n",
            " dropout_2 (Dropout)         (None, 128)               0         \n",
            "                                                                 \n",
            " dense_4 (Dense)             (None, 512)               66048     \n",
            "                                                                 \n",
            " dense_5 (Dense)             (None, 10)                5130      \n",
            "                                                                 \n",
            "=================================================================\n",
            "Total params: 182,602\n",
            "Trainable params: 182,602\n",
            "Non-trainable params: 0\n",
            "_________________________________________________________________\n",
            "Epoch 1/25\n",
            "1560/1563 [============================>.] - ETA: 0s - loss: 0.9738 - accuracy: 0.6976"
          ]
        },
        {
          "output_type": "stream",
          "name": "stderr",
          "text": [
            "WARNING:absl:Found untraced functions such as _jit_compiled_convolution_op, _jit_compiled_convolution_op, _jit_compiled_convolution_op while saving (showing 3 of 3). These functions will not be directly callable after loading.\n",
            "\u001b[34m\u001b[1mwandb\u001b[0m: Adding directory to artifact (/content/wandb/run-20230328_202323-apsnuqu6/files/model-best)... Done. 0.0s\n"
          ]
        },
        {
          "output_type": "stream",
          "name": "stdout",
          "text": [
            "\b\b\b\b\b\b\b\b\b\b\b\b\b\b\b\b\b\b\b\b\b\b\b\b\b\b\b\b\b\b\b\b\b\b\b\b\b\b\b\b\b\b\b\b\b\b\b\b\b\b\b\b\b\b\b\b\b\b\b\b\b\b\b\b\b\b\b\b\b\b\b\b\b\b\b\b\b\b\b\b\b\b\b\b\b\b\r1563/1563 [==============================] - 38s 23ms/step - loss: 0.9730 - accuracy: 0.6979 - val_loss: 0.2814 - val_accuracy: 0.9294\n",
            "Epoch 2/25\n",
            "1563/1563 [==============================] - ETA: 0s - loss: 0.4631 - accuracy: 0.8658"
          ]
        },
        {
          "output_type": "stream",
          "name": "stderr",
          "text": [
            "WARNING:absl:Found untraced functions such as _jit_compiled_convolution_op, _jit_compiled_convolution_op, _jit_compiled_convolution_op while saving (showing 3 of 3). These functions will not be directly callable after loading.\n",
            "\u001b[34m\u001b[1mwandb\u001b[0m: Adding directory to artifact (/content/wandb/run-20230328_202323-apsnuqu6/files/model-best)... Done. 0.0s\n"
          ]
        },
        {
          "output_type": "stream",
          "name": "stdout",
          "text": [
            "\b\b\b\b\b\b\b\b\b\b\b\b\b\b\b\b\b\b\b\b\b\b\b\b\b\b\b\b\b\b\b\b\b\b\b\b\b\b\b\b\b\b\b\b\b\b\b\b\b\b\b\b\b\b\b\b\b\b\b\b\b\b\b\b\b\b\b\b\b\b\b\b\b\b\b\b\b\b\b\b\b\b\b\b\b\b\r1563/1563 [==============================] - 22s 14ms/step - loss: 0.4631 - accuracy: 0.8658 - val_loss: 0.1997 - val_accuracy: 0.9502\n",
            "Epoch 3/25\n",
            "1561/1563 [============================>.] - ETA: 0s - loss: 0.3618 - accuracy: 0.8997"
          ]
        },
        {
          "output_type": "stream",
          "name": "stderr",
          "text": [
            "WARNING:absl:Found untraced functions such as _jit_compiled_convolution_op, _jit_compiled_convolution_op, _jit_compiled_convolution_op while saving (showing 3 of 3). These functions will not be directly callable after loading.\n",
            "\u001b[34m\u001b[1mwandb\u001b[0m: Adding directory to artifact (/content/wandb/run-20230328_202323-apsnuqu6/files/model-best)... Done. 0.0s\n"
          ]
        },
        {
          "output_type": "stream",
          "name": "stdout",
          "text": [
            "\b\b\b\b\b\b\b\b\b\b\b\b\b\b\b\b\b\b\b\b\b\b\b\b\b\b\b\b\b\b\b\b\b\b\b\b\b\b\b\b\b\b\b\b\b\b\b\b\b\b\b\b\b\b\b\b\b\b\b\b\b\b\b\b\b\b\b\b\b\b\b\b\b\b\b\b\b\b\b\b\b\b\b\b\b\b\r1563/1563 [==============================] - 22s 14ms/step - loss: 0.3616 - accuracy: 0.8997 - val_loss: 0.1811 - val_accuracy: 0.9565\n",
            "Epoch 4/25\n",
            "1563/1563 [==============================] - ETA: 0s - loss: 0.3170 - accuracy: 0.9109"
          ]
        },
        {
          "output_type": "stream",
          "name": "stderr",
          "text": [
            "WARNING:absl:Found untraced functions such as _jit_compiled_convolution_op, _jit_compiled_convolution_op, _jit_compiled_convolution_op while saving (showing 3 of 3). These functions will not be directly callable after loading.\n",
            "\u001b[34m\u001b[1mwandb\u001b[0m: Adding directory to artifact (/content/wandb/run-20230328_202323-apsnuqu6/files/model-best)... Done. 0.0s\n"
          ]
        },
        {
          "output_type": "stream",
          "name": "stdout",
          "text": [
            "\b\b\b\b\b\b\b\b\b\b\b\b\b\b\b\b\b\b\b\b\b\b\b\b\b\b\b\b\b\b\b\b\b\b\b\b\b\b\b\b\b\b\b\b\b\b\b\b\b\b\b\b\b\b\b\b\b\b\b\b\b\b\b\b\b\b\b\b\b\b\b\b\b\b\b\b\b\b\b\b\b\b\b\b\b\b\r1563/1563 [==============================] - 23s 15ms/step - loss: 0.3170 - accuracy: 0.9109 - val_loss: 0.1595 - val_accuracy: 0.9619\n",
            "Epoch 5/25\n",
            "1562/1563 [============================>.] - ETA: 0s - loss: 0.2818 - accuracy: 0.9240"
          ]
        },
        {
          "output_type": "stream",
          "name": "stderr",
          "text": [
            "WARNING:absl:Found untraced functions such as _jit_compiled_convolution_op, _jit_compiled_convolution_op, _jit_compiled_convolution_op while saving (showing 3 of 3). These functions will not be directly callable after loading.\n",
            "\u001b[34m\u001b[1mwandb\u001b[0m: Adding directory to artifact (/content/wandb/run-20230328_202323-apsnuqu6/files/model-best)... Done. 0.0s\n"
          ]
        },
        {
          "output_type": "stream",
          "name": "stdout",
          "text": [
            "\b\b\b\b\b\b\b\b\b\b\b\b\b\b\b\b\b\b\b\b\b\b\b\b\b\b\b\b\b\b\b\b\b\b\b\b\b\b\b\b\b\b\b\b\b\b\b\b\b\b\b\b\b\b\b\b\b\b\b\b\b\b\b\b\b\b\b\b\b\b\b\b\b\b\b\b\b\b\b\b\b\b\b\b\b\b\r1563/1563 [==============================] - 24s 15ms/step - loss: 0.2819 - accuracy: 0.9240 - val_loss: 0.1520 - val_accuracy: 0.9640\n",
            "Epoch 6/25\n",
            "1562/1563 [============================>.] - ETA: 0s - loss: 0.2590 - accuracy: 0.9309"
          ]
        },
        {
          "output_type": "stream",
          "name": "stderr",
          "text": [
            "WARNING:absl:Found untraced functions such as _jit_compiled_convolution_op, _jit_compiled_convolution_op, _jit_compiled_convolution_op while saving (showing 3 of 3). These functions will not be directly callable after loading.\n",
            "\u001b[34m\u001b[1mwandb\u001b[0m: Adding directory to artifact (/content/wandb/run-20230328_202323-apsnuqu6/files/model-best)... Done. 0.0s\n"
          ]
        },
        {
          "output_type": "stream",
          "name": "stdout",
          "text": [
            "\b\b\b\b\b\b\b\b\b\b\b\b\b\b\b\b\b\b\b\b\b\b\b\b\b\b\b\b\b\b\b\b\b\b\b\b\b\b\b\b\b\b\b\b\b\b\b\b\b\b\b\b\b\b\b\b\b\b\b\b\b\b\b\b\b\b\b\b\b\b\b\b\b\b\b\b\b\b\b\b\b\b\b\b\b\b\r1563/1563 [==============================] - 24s 15ms/step - loss: 0.2591 - accuracy: 0.9309 - val_loss: 0.1400 - val_accuracy: 0.9684\n",
            "Epoch 7/25\n",
            "1561/1563 [============================>.] - ETA: 0s - loss: 0.2431 - accuracy: 0.9364"
          ]
        },
        {
          "output_type": "stream",
          "name": "stderr",
          "text": [
            "WARNING:absl:Found untraced functions such as _jit_compiled_convolution_op, _jit_compiled_convolution_op, _jit_compiled_convolution_op while saving (showing 3 of 3). These functions will not be directly callable after loading.\n",
            "\u001b[34m\u001b[1mwandb\u001b[0m: Adding directory to artifact (/content/wandb/run-20230328_202323-apsnuqu6/files/model-best)... Done. 0.0s\n"
          ]
        },
        {
          "output_type": "stream",
          "name": "stdout",
          "text": [
            "\b\b\b\b\b\b\b\b\b\b\b\b\b\b\b\b\b\b\b\b\b\b\b\b\b\b\b\b\b\b\b\b\b\b\b\b\b\b\b\b\b\b\b\b\b\b\b\b\b\b\b\b\b\b\b\b\b\b\b\b\b\b\b\b\b\b\b\b\b\b\b\b\b\b\b\b\b\b\b\b\b\b\b\b\b\b\r1563/1563 [==============================] - 23s 15ms/step - loss: 0.2431 - accuracy: 0.9364 - val_loss: 0.1295 - val_accuracy: 0.9725\n",
            "Epoch 8/25\n",
            "1563/1563 [==============================] - 22s 14ms/step - loss: 0.2306 - accuracy: 0.9404 - val_loss: 0.1349 - val_accuracy: 0.9701\n",
            "Epoch 9/25\n",
            "1560/1563 [============================>.] - ETA: 0s - loss: 0.2158 - accuracy: 0.9444"
          ]
        },
        {
          "output_type": "stream",
          "name": "stderr",
          "text": [
            "WARNING:absl:Found untraced functions such as _jit_compiled_convolution_op, _jit_compiled_convolution_op, _jit_compiled_convolution_op while saving (showing 3 of 3). These functions will not be directly callable after loading.\n",
            "\u001b[34m\u001b[1mwandb\u001b[0m: Adding directory to artifact (/content/wandb/run-20230328_202323-apsnuqu6/files/model-best)... Done. 0.0s\n"
          ]
        },
        {
          "output_type": "stream",
          "name": "stdout",
          "text": [
            "\b\b\b\b\b\b\b\b\b\b\b\b\b\b\b\b\b\b\b\b\b\b\b\b\b\b\b\b\b\b\b\b\b\b\b\b\b\b\b\b\b\b\b\b\b\b\b\b\b\b\b\b\b\b\b\b\b\b\b\b\b\b\b\b\b\b\b\b\b\b\b\b\b\b\b\b\b\b\b\b\b\b\b\b\b\b\r1563/1563 [==============================] - 23s 14ms/step - loss: 0.2157 - accuracy: 0.9444 - val_loss: 0.1239 - val_accuracy: 0.9731\n",
            "Epoch 10/25\n",
            "1563/1563 [==============================] - 20s 13ms/step - loss: 0.2041 - accuracy: 0.9488 - val_loss: 0.1282 - val_accuracy: 0.9710\n",
            "Epoch 11/25\n",
            "1560/1563 [============================>.] - ETA: 0s - loss: 0.1948 - accuracy: 0.9518"
          ]
        },
        {
          "output_type": "stream",
          "name": "stderr",
          "text": [
            "WARNING:absl:Found untraced functions such as _jit_compiled_convolution_op, _jit_compiled_convolution_op, _jit_compiled_convolution_op while saving (showing 3 of 3). These functions will not be directly callable after loading.\n",
            "\u001b[34m\u001b[1mwandb\u001b[0m: Adding directory to artifact (/content/wandb/run-20230328_202323-apsnuqu6/files/model-best)... Done. 0.0s\n"
          ]
        },
        {
          "output_type": "stream",
          "name": "stdout",
          "text": [
            "\b\b\b\b\b\b\b\b\b\b\b\b\b\b\b\b\b\b\b\b\b\b\b\b\b\b\b\b\b\b\b\b\b\b\b\b\b\b\b\b\b\b\b\b\b\b\b\b\b\b\b\b\b\b\b\b\b\b\b\b\b\b\b\b\b\b\b\b\b\b\b\b\b\b\b\b\b\b\b\b\b\b\b\b\b\b\r1563/1563 [==============================] - 23s 15ms/step - loss: 0.1948 - accuracy: 0.9518 - val_loss: 0.1238 - val_accuracy: 0.9732\n",
            "Epoch 12/25\n",
            "1559/1563 [============================>.] - ETA: 0s - loss: 0.1899 - accuracy: 0.9529"
          ]
        },
        {
          "output_type": "stream",
          "name": "stderr",
          "text": [
            "WARNING:absl:Found untraced functions such as _jit_compiled_convolution_op, _jit_compiled_convolution_op, _jit_compiled_convolution_op while saving (showing 3 of 3). These functions will not be directly callable after loading.\n",
            "\u001b[34m\u001b[1mwandb\u001b[0m: Adding directory to artifact (/content/wandb/run-20230328_202323-apsnuqu6/files/model-best)... Done. 0.0s\n"
          ]
        },
        {
          "output_type": "stream",
          "name": "stdout",
          "text": [
            "\b\b\b\b\b\b\b\b\b\b\b\b\b\b\b\b\b\b\b\b\b\b\b\b\b\b\b\b\b\b\b\b\b\b\b\b\b\b\b\b\b\b\b\b\b\b\b\b\b\b\b\b\b\b\b\b\b\b\b\b\b\b\b\b\b\b\b\b\b\b\b\b\b\b\b\b\b\b\b\b\b\b\b\b\b\b\r1563/1563 [==============================] - 22s 14ms/step - loss: 0.1899 - accuracy: 0.9529 - val_loss: 0.1119 - val_accuracy: 0.9775\n",
            "Epoch 13/25\n",
            "1563/1563 [==============================] - ETA: 0s - loss: 0.1838 - accuracy: 0.9551"
          ]
        },
        {
          "output_type": "stream",
          "name": "stderr",
          "text": [
            "WARNING:absl:Found untraced functions such as _jit_compiled_convolution_op, _jit_compiled_convolution_op, _jit_compiled_convolution_op while saving (showing 3 of 3). These functions will not be directly callable after loading.\n",
            "\u001b[34m\u001b[1mwandb\u001b[0m: Adding directory to artifact (/content/wandb/run-20230328_202323-apsnuqu6/files/model-best)... Done. 0.0s\n"
          ]
        },
        {
          "output_type": "stream",
          "name": "stdout",
          "text": [
            "\b\b\b\b\b\b\b\b\b\b\b\b\b\b\b\b\b\b\b\b\b\b\b\b\b\b\b\b\b\b\b\b\b\b\b\b\b\b\b\b\b\b\b\b\b\b\b\b\b\b\b\b\b\b\b\b\b\b\b\b\b\b\b\b\b\b\b\b\b\b\b\b\b\b\b\b\b\b\b\b\b\b\b\b\b\b\r1563/1563 [==============================] - 23s 15ms/step - loss: 0.1838 - accuracy: 0.9551 - val_loss: 0.1110 - val_accuracy: 0.9777\n",
            "Epoch 14/25\n",
            "1563/1563 [==============================] - 22s 14ms/step - loss: 0.1786 - accuracy: 0.9561 - val_loss: 0.1157 - val_accuracy: 0.9769\n",
            "Epoch 15/25\n",
            "1563/1563 [==============================] - 22s 14ms/step - loss: 0.1717 - accuracy: 0.9594 - val_loss: 0.1123 - val_accuracy: 0.9772\n",
            "Epoch 16/25\n",
            "1560/1563 [============================>.] - ETA: 0s - loss: 0.1722 - accuracy: 0.9586"
          ]
        },
        {
          "output_type": "stream",
          "name": "stderr",
          "text": [
            "WARNING:absl:Found untraced functions such as _jit_compiled_convolution_op, _jit_compiled_convolution_op, _jit_compiled_convolution_op while saving (showing 3 of 3). These functions will not be directly callable after loading.\n",
            "\u001b[34m\u001b[1mwandb\u001b[0m: Adding directory to artifact (/content/wandb/run-20230328_202323-apsnuqu6/files/model-best)... Done. 0.0s\n"
          ]
        },
        {
          "output_type": "stream",
          "name": "stdout",
          "text": [
            "\b\b\b\b\b\b\b\b\b\b\b\b\b\b\b\b\b\b\b\b\b\b\b\b\b\b\b\b\b\b\b\b\b\b\b\b\b\b\b\b\b\b\b\b\b\b\b\b\b\b\b\b\b\b\b\b\b\b\b\b\b\b\b\b\b\b\b\b\b\b\b\b\b\b\b\b\b\b\b\b\b\b\b\b\b\b\r1563/1563 [==============================] - 24s 15ms/step - loss: 0.1723 - accuracy: 0.9586 - val_loss: 0.1075 - val_accuracy: 0.9778\n",
            "Epoch 17/25\n",
            "1563/1563 [==============================] - ETA: 0s - loss: 0.1677 - accuracy: 0.9601"
          ]
        },
        {
          "output_type": "stream",
          "name": "stderr",
          "text": [
            "WARNING:absl:Found untraced functions such as _jit_compiled_convolution_op, _jit_compiled_convolution_op, _jit_compiled_convolution_op while saving (showing 3 of 3). These functions will not be directly callable after loading.\n",
            "\u001b[34m\u001b[1mwandb\u001b[0m: Adding directory to artifact (/content/wandb/run-20230328_202323-apsnuqu6/files/model-best)... Done. 0.0s\n"
          ]
        },
        {
          "output_type": "stream",
          "name": "stdout",
          "text": [
            "\b\b\b\b\b\b\b\b\b\b\b\b\b\b\b\b\b\b\b\b\b\b\b\b\b\b\b\b\b\b\b\b\b\b\b\b\b\b\b\b\b\b\b\b\b\b\b\b\b\b\b\b\b\b\b\b\b\b\b\b\b\b\b\b\b\b\b\b\b\b\b\b\b\b\b\b\b\b\b\b\b\b\b\b\b\b\r1563/1563 [==============================] - 22s 14ms/step - loss: 0.1677 - accuracy: 0.9601 - val_loss: 0.1005 - val_accuracy: 0.9800\n",
            "Epoch 18/25\n",
            "1560/1563 [============================>.] - ETA: 0s - loss: 0.1609 - accuracy: 0.9624"
          ]
        },
        {
          "output_type": "stream",
          "name": "stderr",
          "text": [
            "WARNING:absl:Found untraced functions such as _jit_compiled_convolution_op, _jit_compiled_convolution_op, _jit_compiled_convolution_op while saving (showing 3 of 3). These functions will not be directly callable after loading.\n",
            "\u001b[34m\u001b[1mwandb\u001b[0m: Adding directory to artifact (/content/wandb/run-20230328_202323-apsnuqu6/files/model-best)... Done. 0.0s\n"
          ]
        },
        {
          "output_type": "stream",
          "name": "stdout",
          "text": [
            "\b\b\b\b\b\b\b\b\b\b\b\b\b\b\b\b\b\b\b\b\b\b\b\b\b\b\b\b\b\b\b\b\b\b\b\b\b\b\b\b\b\b\b\b\b\b\b\b\b\b\b\b\b\b\b\b\b\b\b\b\b\b\b\b\b\b\b\b\b\b\b\b\b\b\b\b\b\b\b\b\b\b\b\b\b\b\r1563/1563 [==============================] - 24s 15ms/step - loss: 0.1608 - accuracy: 0.9624 - val_loss: 0.1000 - val_accuracy: 0.9809\n",
            "Epoch 19/25\n",
            "1563/1563 [==============================] - 20s 13ms/step - loss: 0.1561 - accuracy: 0.9633 - val_loss: 0.1048 - val_accuracy: 0.9778\n",
            "Epoch 20/25\n",
            "1563/1563 [==============================] - 21s 13ms/step - loss: 0.1545 - accuracy: 0.9633 - val_loss: 0.1015 - val_accuracy: 0.9801\n",
            "Epoch 21/25\n",
            "1559/1563 [============================>.] - ETA: 0s - loss: 0.1499 - accuracy: 0.9650"
          ]
        },
        {
          "output_type": "stream",
          "name": "stderr",
          "text": [
            "WARNING:absl:Found untraced functions such as _jit_compiled_convolution_op, _jit_compiled_convolution_op, _jit_compiled_convolution_op while saving (showing 3 of 3). These functions will not be directly callable after loading.\n",
            "\u001b[34m\u001b[1mwandb\u001b[0m: Adding directory to artifact (/content/wandb/run-20230328_202323-apsnuqu6/files/model-best)... Done. 0.0s\n"
          ]
        },
        {
          "output_type": "stream",
          "name": "stdout",
          "text": [
            "\b\b\b\b\b\b\b\b\b\b\b\b\b\b\b\b\b\b\b\b\b\b\b\b\b\b\b\b\b\b\b\b\b\b\b\b\b\b\b\b\b\b\b\b\b\b\b\b\b\b\b\b\b\b\b\b\b\b\b\b\b\b\b\b\b\b\b\b\b\b\b\b\b\b\b\b\b\b\b\b\b\b\b\b\b\b\r1563/1563 [==============================] - 23s 15ms/step - loss: 0.1498 - accuracy: 0.9650 - val_loss: 0.0975 - val_accuracy: 0.9820\n",
            "Epoch 22/25\n",
            "1563/1563 [==============================] - 21s 14ms/step - loss: 0.1505 - accuracy: 0.9657 - val_loss: 0.1044 - val_accuracy: 0.9796\n",
            "Epoch 23/25\n",
            "1563/1563 [==============================] - 21s 13ms/step - loss: 0.1462 - accuracy: 0.9658 - val_loss: 0.1001 - val_accuracy: 0.9808\n",
            "Epoch 24/25\n",
            "1563/1563 [==============================] - 21s 13ms/step - loss: 0.1421 - accuracy: 0.9677 - val_loss: 0.0998 - val_accuracy: 0.9810\n",
            "Epoch 25/25\n",
            "1563/1563 [==============================] - 21s 14ms/step - loss: 0.1401 - accuracy: 0.9688 - val_loss: 0.1013 - val_accuracy: 0.9804\n"
          ]
        }
      ]
    },
    {
      "cell_type": "code",
      "source": [
        "acc = history.history['accuracy']\n",
        "val_acc = history.history['val_accuracy']\n",
        "loss = history.history['loss']\n",
        "val_loss = history.history['val_loss']\n",
        "\n",
        "epochs = range(len(acc))\n",
        "\n",
        "plt.plot(epochs, acc, 'r', label='Training accuracy')\n",
        "plt.plot(epochs, val_acc, 'b', label='Validation accuracy')\n",
        "plt.title('Training and validation accuracy')\n",
        "plt.legend(loc=0)\n",
        "plt.figure()\n",
        "plt.show()"
      ],
      "metadata": {
        "id": "C0Pvs_2McaGr",
        "outputId": "f09be08b-5684-4171-f166-c17bd4868c2f",
        "execution": {
          "iopub.status.busy": "2023-03-28T19:21:10.078607Z",
          "iopub.execute_input": "2023-03-28T19:21:10.080808Z",
          "iopub.status.idle": "2023-03-28T19:21:10.318852Z",
          "shell.execute_reply.started": "2023-03-28T19:21:10.080775Z",
          "shell.execute_reply": "2023-03-28T19:21:10.317742Z"
        },
        "trusted": true,
        "colab": {
          "base_uri": "https://localhost:8080/",
          "height": 298
        }
      },
      "execution_count": null,
      "outputs": [
        {
          "output_type": "display_data",
          "data": {
            "text/plain": [
              "<Figure size 432x288 with 1 Axes>"
            ],
            "image/png": "[encoded data removed]"
          },
          "metadata": {
            "needs_background": "light"
          }
        },
        {
          "output_type": "display_data",
          "data": {
            "text/plain": [
              "<Figure size 432x288 with 0 Axes>"
            ]
          },
          "metadata": {}
        }
      ]
    },
    {
      "cell_type": "code",
      "source": [
        "test_datagen = ImageDataGenerator()\n",
        "test_generator = test_datagen.flow(test_X,test_y)\n",
        "test_loss, test_acc = model.evaluate(test_generator, verbose=2)\n",
        "\n",
        "wandb.log({\"test_loss\": test_loss, \"test_acc\": test_acc})"
      ],
      "metadata": {
        "id": "eZU9si-Mca_0",
        "outputId": "7040461c-0fb2-4d1d-ec4b-73b708beb038",
        "execution": {
          "iopub.status.busy": "2023-03-28T19:21:10.320644Z",
          "iopub.execute_input": "2023-03-28T19:21:10.321469Z",
          "iopub.status.idle": "2023-03-28T19:21:11.647714Z",
          "shell.execute_reply.started": "2023-03-28T19:21:10.321422Z",
          "shell.execute_reply": "2023-03-28T19:21:11.646556Z"
        },
        "trusted": true,
        "colab": {
          "base_uri": "https://localhost:8080/"
        }
      },
      "execution_count": null,
      "outputs": [
        {
          "output_type": "stream",
          "name": "stdout",
          "text": [
            "313/313 - 1s - loss: 0.0837 - accuracy: 0.9868 - 989ms/epoch - 3ms/step\n"
          ]
        }
      ]
    },
    {
      "cell_type": "code",
      "source": [],
      "metadata": {
        "id": "b7ybvx9wvATB"
      },
      "execution_count": null,
      "outputs": []
    }
  ]
}